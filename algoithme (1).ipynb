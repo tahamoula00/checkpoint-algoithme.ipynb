{
  "nbformat": 4,
  "nbformat_minor": 0,
  "metadata": {
    "colab": {
      "name": "algoithme.ipynb",
      "provenance": []
    },
    "kernelspec": {
      "name": "python3",
      "display_name": "Python 3"
    },
    "language_info": {
      "name": "python"
    }
  },
  "cells": [
    {
      "cell_type": "markdown",
      "metadata": {
        "id": "OeOPDjhDvWSU"
      },
      "source": [
        "Write a Python program for binary search.\n",
        "Test Data :\n",
        "binary_search([1,2,3,5,8], 6) -> False\n",
        "binary_search([1,2,3,5,8], 5) -> True"
      ]
    },
    {
      "cell_type": "code",
      "metadata": {
        "id": "cNYYCCd-vL7Y",
        "colab": {
          "base_uri": "https://localhost:8080/"
        },
        "outputId": "6b274df9-4c30-4e88-983f-7fcd4b4dac47"
      },
      "source": [
        "def binary_search(item_list,item):\n",
        "  \n",
        "\tfirst = 0\n",
        "\tlast = len(item_list)-1\n",
        "\tfound = False\n",
        "\twhile( first<=last and not found):\n",
        "\t\tmid = (first + last)//2\n",
        "\t\tif item_list[mid] == item :\n",
        "\t\t\tfound = True\n",
        "\t\telse:\n",
        "\t\t\tif item < item_list[mid]:\n",
        "\t\t\t\tlast = mid - 1\n",
        "\t\t\telse:\n",
        "\t\t\t\tfirst = mid + 1\t\n",
        "\treturn found\n",
        "print(binary_search([1,2,3,5,8], 6))\n",
        "print(binary_search([1,2,3,5,8], 5))\n",
        "print(binary_search([5,8,8,5,2],1))\n",
        "print(binary_search([5,8,7,1,2],5))\n"
      ],
      "execution_count": 8,
      "outputs": [
        {
          "output_type": "stream",
          "name": "stdout",
          "text": [
            "False\n",
            "True\n",
            "False\n",
            "True\n"
          ]
        }
      ]
    },
    {
      "cell_type": "markdown",
      "metadata": {
        "id": "Zhq8myoM-8sZ"
      },
      "source": [
        " 2. Write a Python program to calculate the value of 'a' to the power 'b'.\n",
        "\n",
        "Test Data : \n",
        "(power(3,4) -> 81"
      ]
    },
    {
      "cell_type": "code",
      "metadata": {
        "colab": {
          "base_uri": "https://localhost:8080/"
        },
        "id": "FHfObTYd__qO",
        "outputId": "c8eb14ff-d527-49c5-f3d3-df8e07db070c"
      },
      "source": [
        "def power(x, y):\n",
        "  \n",
        "    if (y == 0): \n",
        "      return 1\n",
        "    elif (int(y % 2) == 0):\n",
        "        return (power(x, int(y / 2))*power(x, int(y / 2)))\n",
        "    else:\n",
        "        return (x * power(x, int(y / 2))*power(x, int(y / 2)))\n",
        "  \n",
        "# Driver Code\n",
        "x = 2; y = 5\n",
        "print(power(x, y))"
      ],
      "execution_count": 13,
      "outputs": [
        {
          "output_type": "stream",
          "name": "stdout",
          "text": [
            "32\n"
          ]
        }
      ]
    },
    {
      "cell_type": "markdown",
      "metadata": {
        "id": "aVDYkVdwA_hE"
      },
      "source": [
        "  3. Write a Python program to sort a list of elements using the bubble sort algorithm.\n",
        "\n",
        "Sample Data: [29,13,22,37,52,49,46,71,56]\n",
        "Expected Result: [13, 22, 29, 37, 42, 46, 49, 56, 71]"
      ]
    },
    {
      "cell_type": "code",
      "metadata": {
        "colab": {
          "base_uri": "https://localhost:8080/"
        },
        "id": "URE3a0yiBHEJ",
        "outputId": "6dcdcbd7-a047-48b6-f9a6-96edfde7fdef"
      },
      "source": [
        "def bubbleSort(list1):\n",
        "    for passnum in range(len(list1)-1,0,-1):\n",
        "        for i in range(passnum):\n",
        "            if list1[i]>list1[i+1]:\n",
        "                temp = list1[i]\n",
        "                list1[i] = list1[i+1]\n",
        "                list1[i+1] = temp\n",
        "    return list1\n",
        "\n",
        "nlist = [14,46,43,27,57,41,45,21,70]\n",
        "bubbleSort(nlist)"
      ],
      "execution_count": 14,
      "outputs": [
        {
          "output_type": "execute_result",
          "data": {
            "text/plain": [
              "[14, 21, 27, 41, 43, 45, 46, 57, 70]"
            ]
          },
          "metadata": {},
          "execution_count": 14
        }
      ]
    },
    {
      "cell_type": "code",
      "metadata": {
        "id": "S_g_FEAHCq5q"
      },
      "source": [
        ""
      ],
      "execution_count": null,
      "outputs": []
    },
    {
      "cell_type": "markdown",
      "metadata": {
        "id": "UfgTSum9Cth8"
      },
      "source": [
        " 4. Write a Python program to sort a list of elements using the merge sort algorithm.\n",
        "\n",
        "Sample Data: [29,13,22,37,52,49,46,71,56]\n",
        "Expected Result: [13, 22, 29, 37, 42, 46, 49, 56, 71]"
      ]
    },
    {
      "cell_type": "code",
      "metadata": {
        "id": "mYyHE54dCl1t"
      },
      "source": [
        "def mergeSort(arr):\n",
        "    if len(arr) > 1:\n",
        "  \n",
        "         # Finding the mid of the array\n",
        "        mid = len(arr)//2\n",
        "  \n",
        "        # Dividing the array elements\n",
        "        L = arr[:mid]\n",
        "  \n",
        "        # into 2 halves\n",
        "        R = arr[mid:]\n",
        "  \n",
        "        # Sorting the first half\n",
        "        mergeSort(L)\n",
        "  \n",
        "        # Sorting the second half\n",
        "        mergeSort(R)\n",
        "  \n",
        "        i = j = k = 0\n",
        "  \n",
        "        # Copy data to temp arrays L[] and R[]\n",
        "        while i < len(L) and j < len(R):\n",
        "            if L[i] < R[j]:\n",
        "                arr[k] = L[i]\n",
        "                i += 1\n",
        "            else:\n",
        "                arr[k] = R[j]\n",
        "                j += 1\n",
        "            k += 1\n",
        "  \n",
        "        # Checking if any element was left\n",
        "        while i < len(L):\n",
        "            arr[k] = L[i]\n",
        "            i += 1\n",
        "            k += 1\n",
        "  \n",
        "        while j < len(R):\n",
        "            arr[k] = R[j]\n",
        "            j += 1\n",
        "            k += 1\n",
        "  \n",
        "# Code to print the list\n",
        "  \n",
        "  \n",
        "def printList(arr):\n",
        "    for i in range(len(arr)):\n",
        "        print(arr[i], end=\" \")\n",
        "    print()\n",
        "  \n",
        "  \n",
        "# Driver Code\n",
        "if __name__ == '__main__':\n",
        "    arr = [12, 11, 13, 5, 6, 7]\n",
        "    print(\"Given array is\", end=\"\\n\")\n",
        "    printList(arr)\n",
        "    mergeSort(arr)\n",
        "    print(\"Sorted array is: \", end=\"\\n\")\n",
        "    printList(arr)"
      ],
      "execution_count": null,
      "outputs": []
    },
    {
      "cell_type": "markdown",
      "metadata": {
        "id": "ShJKlPWdC83U"
      },
      "source": [
        "     5. Write a Python program to sort a list of elements using the quick sort algorithm.\n",
        "\n",
        "Sample Data: [29,13,22,37,52,49,46,71,56]\n",
        "Expected Result: [13, 22, 29, 37, 42, 46, 49, 56, 71]"
      ]
    },
    {
      "cell_type": "code",
      "metadata": {
        "colab": {
          "base_uri": "https://localhost:8080/"
        },
        "id": "G2tHalhTD-m8",
        "outputId": "633ee6d8-eac6-4631-bacc-32c7acacb00d"
      },
      "source": [
        "def quickSort(alist):\n",
        "   quickSortHelper(alist,0,len(alist)-1)\n",
        "\n",
        "def quickSortHelper(alist,first,last):\n",
        "   if first<last:\n",
        "\n",
        "       splitpoint = partition(alist,first,last)\n",
        "\n",
        "       quickSortHelper(alist,first,splitpoint-1)\n",
        "       quickSortHelper(alist,splitpoint+1,last)\n",
        "\n",
        "\n",
        "def partition(alist,first,last):\n",
        "   pivotvalue = alist[first]\n",
        "\n",
        "   leftmark = first+1\n",
        "   rightmark = last\n",
        "\n",
        "   done = False\n",
        "   while not done:\n",
        "\n",
        "       while leftmark <= rightmark and alist[leftmark] <= pivotvalue:\n",
        "           leftmark = leftmark + 1\n",
        "\n",
        "       while alist[rightmark] >= pivotvalue and rightmark >= leftmark:\n",
        "           rightmark = rightmark -1\n",
        "\n",
        "       if rightmark < leftmark:\n",
        "           done = True\n",
        "       else:\n",
        "           temp = alist[leftmark]\n",
        "           alist[leftmark] = alist[rightmark]\n",
        "           alist[rightmark] = temp\n",
        "\n",
        "   temp = alist[first]\n",
        "   alist[first] = alist[rightmark]\n",
        "   alist[rightmark] = temp\n",
        "\n",
        "\n",
        "   return rightmark\n",
        "\n",
        "alist = [54,26,93,17,77,31,44,55,20]\n",
        "quickSort(alist)\n",
        "print(alist)"
      ],
      "execution_count": 20,
      "outputs": [
        {
          "output_type": "stream",
          "name": "stdout",
          "text": [
            "[17, 20, 26, 31, 44, 54, 55, 77, 93]\n"
          ]
        }
      ]
    },
    {
      "cell_type": "code",
      "metadata": {
        "id": "iZOmRLr_ETIL"
      },
      "source": [
        ""
      ],
      "execution_count": null,
      "outputs": []
    },
    {
      "cell_type": "code",
      "metadata": {
        "id": "63CdIB49EUgv"
      },
      "source": [
        ""
      ],
      "execution_count": null,
      "outputs": []
    }
  ]
}